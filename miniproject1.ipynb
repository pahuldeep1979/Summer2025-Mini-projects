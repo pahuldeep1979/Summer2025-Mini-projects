{
  "nbformat": 4,
  "nbformat_minor": 0,
  "metadata": {
    "colab": {
      "provenance": [],
      "authorship_tag": "ABX9TyPn6px7WbwJD2IvaJaENC9U",
      "include_colab_link": true
    },
    "kernelspec": {
      "name": "python3",
      "display_name": "Python 3"
    },
    "language_info": {
      "name": "python"
    }
  },
  "cells": [
    {
      "cell_type": "markdown",
      "metadata": {
        "id": "view-in-github",
        "colab_type": "text"
      },
      "source": [
        "<a href=\"https://colab.research.google.com/github/pahuldeep1979/Summer2025-Mini-projects/blob/main/miniproject1.ipynb\" target=\"_parent\"><img src=\"https://colab.research.google.com/assets/colab-badge.svg\" alt=\"Open In Colab\"/></a>"
      ]
    },
    {
      "cell_type": "markdown",
      "source": [
        "Q1. L is a list defined as L= [11, 12, 13, 14].\n",
        "\n",
        "(i) WAP to add 50 and 60 to L.  \n",
        "\n",
        "\n"
      ],
      "metadata": {
        "id": "bRcHS6T0xBaj"
      }
    },
    {
      "cell_type": "code",
      "execution_count": 18,
      "metadata": {
        "colab": {
          "base_uri": "https://localhost:8080/"
        },
        "id": "juVcNz41NbjY",
        "outputId": "c570e127-8ad6-41ea-ac29-9e4348f64273"
      },
      "outputs": [
        {
          "output_type": "stream",
          "name": "stdout",
          "text": [
            "After adding 50 and 60: [11, 12, 13, 14, 50, 60]\n"
          ]
        }
      ],
      "source": [
        "L=[11,12,13,14]\n",
        "L.append(50)\n",
        "L.append(60)\n",
        "print(\"After adding 50 and 60:\", L)"
      ]
    },
    {
      "cell_type": "markdown",
      "source": [
        "(ii) WAP to remove 11 and 13 from L."
      ],
      "metadata": {
        "id": "SI6xQe740_bp"
      }
    },
    {
      "cell_type": "code",
      "source": [
        "L.remove(11)\n",
        "L.remove(13)\n",
        "print(\"After removing 11 and 13:\", L)"
      ],
      "metadata": {
        "colab": {
          "base_uri": "https://localhost:8080/"
        },
        "id": "-jfdDzXs1E4q",
        "outputId": "aa92bba5-5ee8-4c8b-d943-3ff86f4efa79"
      },
      "execution_count": 19,
      "outputs": [
        {
          "output_type": "stream",
          "name": "stdout",
          "text": [
            "After removing 11 and 13: [12, 14, 50, 60]\n"
          ]
        }
      ]
    },
    {
      "cell_type": "markdown",
      "source": [
        "(iii) WAP to sort L in ascending order.\n",
        "\n"
      ],
      "metadata": {
        "id": "m0ZfGU2U2C8U"
      }
    },
    {
      "cell_type": "code",
      "source": [
        "L.sort()\n",
        "print(\"Sorted in ascending order:\", L)"
      ],
      "metadata": {
        "colab": {
          "base_uri": "https://localhost:8080/"
        },
        "id": "mcuDil992REw",
        "outputId": "d565f1e3-c0f4-452a-cc0a-af6a2ceebeaa"
      },
      "execution_count": 20,
      "outputs": [
        {
          "output_type": "stream",
          "name": "stdout",
          "text": [
            "Sorted in ascending order: [12, 14, 50, 60]\n"
          ]
        }
      ]
    },
    {
      "cell_type": "markdown",
      "source": [
        "(iv) WAP to sort L in descending order."
      ],
      "metadata": {
        "id": "NzjjQZA62d1G"
      }
    },
    {
      "cell_type": "code",
      "source": [
        "L.sort(reverse=True)\n",
        "print(\"Sorted in descending order:\", L)"
      ],
      "metadata": {
        "colab": {
          "base_uri": "https://localhost:8080/"
        },
        "id": "yFom_bKJ2fy0",
        "outputId": "464a473c-4d69-4b7b-8572-a143d859cb46"
      },
      "execution_count": 21,
      "outputs": [
        {
          "output_type": "stream",
          "name": "stdout",
          "text": [
            "Sorted in descending order: [60, 50, 14, 12]\n"
          ]
        }
      ]
    },
    {
      "cell_type": "markdown",
      "source": [
        "(v)\n",
        "WAP to search for 13 in L."
      ],
      "metadata": {
        "id": "PS8zrIEm2qDX"
      }
    },
    {
      "cell_type": "code",
      "source": [
        "if 13 in L:\n",
        "    print(\"13 is present in L\")\n",
        "else:\n",
        "    print(\"13 is not present in L\")\n"
      ],
      "metadata": {
        "colab": {
          "base_uri": "https://localhost:8080/"
        },
        "id": "xMiKK6LM2zrO",
        "outputId": "222e2f02-ad18-49a7-e2a1-956a90eae4b3"
      },
      "execution_count": 22,
      "outputs": [
        {
          "output_type": "stream",
          "name": "stdout",
          "text": [
            "13 is not present in L\n"
          ]
        }
      ]
    },
    {
      "cell_type": "markdown",
      "source": [
        " (vi) WAP to count the number of elements present in L."
      ],
      "metadata": {
        "id": "iwV5keEl28qK"
      }
    },
    {
      "cell_type": "code",
      "source": [
        "print(\"Number of elements in L:\", len(L))"
      ],
      "metadata": {
        "colab": {
          "base_uri": "https://localhost:8080/"
        },
        "id": "n0TBP53V3A9f",
        "outputId": "ce3cb937-446a-4476-bcc0-a0889ffe9119"
      },
      "execution_count": 23,
      "outputs": [
        {
          "output_type": "stream",
          "name": "stdout",
          "text": [
            "Number of elements in L: 4\n"
          ]
        }
      ]
    },
    {
      "cell_type": "markdown",
      "source": [
        "(vii) WAP to sum all the elements in L."
      ],
      "metadata": {
        "id": "VnjazPtQ3GqV"
      }
    },
    {
      "cell_type": "code",
      "source": [
        "print(\"Sum of all elements in L:\", sum(L))"
      ],
      "metadata": {
        "colab": {
          "base_uri": "https://localhost:8080/"
        },
        "id": "EK98Em2w3Eae",
        "outputId": "375963c0-123b-48f8-ce40-8939b9e40b6e"
      },
      "execution_count": 24,
      "outputs": [
        {
          "output_type": "stream",
          "name": "stdout",
          "text": [
            "Sum of all elements in L: 136\n"
          ]
        }
      ]
    },
    {
      "cell_type": "markdown",
      "source": [
        "(viii) WAP to sum all ODD numbers in L."
      ],
      "metadata": {
        "id": "UoezAMGZ3WQy"
      }
    },
    {
      "cell_type": "code",
      "source": [
        "odds = [x for x in L if x % 2 != 0]\n",
        "print(\"Sum of odd numbers:\", sum(odds))"
      ],
      "metadata": {
        "colab": {
          "base_uri": "https://localhost:8080/"
        },
        "id": "6f6akjL13YQR",
        "outputId": "e7065c9b-b162-4261-ea01-5678d79b9f33"
      },
      "execution_count": 25,
      "outputs": [
        {
          "output_type": "stream",
          "name": "stdout",
          "text": [
            "Sum of odd numbers: 0\n"
          ]
        }
      ]
    },
    {
      "cell_type": "markdown",
      "source": [
        " (ix) WAP to sum all EVEN numbers in L."
      ],
      "metadata": {
        "id": "x85i7E9H3jd4"
      }
    },
    {
      "cell_type": "code",
      "source": [
        "evens = [x for x in L if x % 2 == 0]\n",
        "print(\"Sum of even numbers:\", sum(evens))"
      ],
      "metadata": {
        "colab": {
          "base_uri": "https://localhost:8080/"
        },
        "id": "DDrXJTq-3kbZ",
        "outputId": "7ddc2197-9927-472a-f5eb-49b57b038712"
      },
      "execution_count": 26,
      "outputs": [
        {
          "output_type": "stream",
          "name": "stdout",
          "text": [
            "Sum of even numbers: 136\n"
          ]
        }
      ]
    },
    {
      "cell_type": "markdown",
      "source": [
        " (x) WAP to sum all PRIME numbers in L."
      ],
      "metadata": {
        "id": "c-6r-uG73oJM"
      }
    },
    {
      "cell_type": "code",
      "source": [
        "def is_prime(n):\n",
        "    if n < 2:\n",
        "        return False\n",
        "    for i in range(2, int(n**0.5) + 1):\n",
        "        if n % i == 0:\n",
        "            return False\n",
        "    return True\n",
        "\n",
        "primes = [x for x in L if is_prime(x)]\n",
        "print(\"Sum of prime numbers:\", sum(primes))"
      ],
      "metadata": {
        "colab": {
          "base_uri": "https://localhost:8080/"
        },
        "id": "_VYrFo9X3qlj",
        "outputId": "9cfad458-cae5-4f2f-c3cb-631ed901af45"
      },
      "execution_count": 27,
      "outputs": [
        {
          "output_type": "stream",
          "name": "stdout",
          "text": [
            "Sum of prime numbers: 0\n"
          ]
        }
      ]
    },
    {
      "cell_type": "markdown",
      "source": [
        "(xi) WAP to clear all the elements in L."
      ],
      "metadata": {
        "id": "igiZ21gk3udW"
      }
    },
    {
      "cell_type": "code",
      "source": [
        "L.clear()\n",
        "print(\"List after clearing:\", L)"
      ],
      "metadata": {
        "colab": {
          "base_uri": "https://localhost:8080/"
        },
        "id": "tEXRMu6f3yPS",
        "outputId": "03d5a764-8f7e-4e35-98fd-58a1e735d1e8"
      },
      "execution_count": 28,
      "outputs": [
        {
          "output_type": "stream",
          "name": "stdout",
          "text": [
            "List after clearing: []\n"
          ]
        }
      ]
    },
    {
      "cell_type": "markdown",
      "source": [
        "(xii) WAP to delete L."
      ],
      "metadata": {
        "id": "IfAATKfz31B7"
      }
    },
    {
      "cell_type": "code",
      "source": [
        "del L\n",
        "print(\"List deleted.\")"
      ],
      "metadata": {
        "colab": {
          "base_uri": "https://localhost:8080/"
        },
        "id": "t71thRoB33Od",
        "outputId": "4118e6ce-515c-438f-9763-197b05760e5b"
      },
      "execution_count": 29,
      "outputs": [
        {
          "output_type": "stream",
          "name": "stdout",
          "text": [
            "List deleted.\n"
          ]
        }
      ]
    },
    {
      "cell_type": "markdown",
      "source": [
        "\n",
        " Q2.\n",
        " D is a dictionary defined as D = {1:5.6, 2:7.8, 3:6.6, 4:8.7, 5:7.7}.\n",
        "\n",
        " (i) WAP to add new entry in D; key=8 and value is 8.8\n",
        "\n",
        " (ii) WAP to remove key=2.\n",
        "\n",
        " (iii) WAP to check whether key 6 is present in D.\n",
        "\n",
        " (iv) WAP to count the number of elements present in D.\n",
        "\n",
        " (v) WAP to add all the values present in D.\n",
        "\n",
        " (vi) WAP to update the value of key 3 to 7.1.\n",
        "\n",
        " (vii) WAP to clear the dictionary.\n"
      ],
      "metadata": {
        "id": "ZzqvmdrB3uZb"
      }
    },
    {
      "cell_type": "code",
      "source": [
        "D = {1:5.6, 2:7.8, 3:6.6, 4:8.7, 5:7.7}\n",
        "\n",
        "# Add key=8, value=8.8\n",
        "D[8] = 8.8\n",
        "print(\"After adding key 8:\", D)\n",
        "\n",
        "# Remove key=2\n",
        "D.pop(2, None)\n",
        "print(\"After removing key 2:\", D)\n",
        "\n",
        "# Check if key 6 is in D\n",
        "print(\"Key 6 present:\" if 6 in D else \"Key 6 not present\")\n",
        "\n",
        "# Count elements\n",
        "print(\"Number of elements:\", len(D))\n",
        "\n",
        "# Sum all values\n",
        "print(\"Sum of all values:\", sum(D.values()))\n",
        "\n",
        "# Update value of key 3\n",
        "D[3] = 7.1\n",
        "print(\"After updating key 3:\", D)\n",
        "\n",
        "# Clear dictionary\n",
        "D.clear()\n",
        "print(\"Dictionary after clearing:\", D)"
      ],
      "metadata": {
        "colab": {
          "base_uri": "https://localhost:8080/"
        },
        "id": "JbDQEbnJ49sG",
        "outputId": "87e68d24-50df-4dfe-cd2b-d6cca589e69b"
      },
      "execution_count": 30,
      "outputs": [
        {
          "output_type": "stream",
          "name": "stdout",
          "text": [
            "After adding key 8: {1: 5.6, 2: 7.8, 3: 6.6, 4: 8.7, 5: 7.7, 8: 8.8}\n",
            "After removing key 2: {1: 5.6, 3: 6.6, 4: 8.7, 5: 7.7, 8: 8.8}\n",
            "Key 6 not present\n",
            "Number of elements: 5\n",
            "Sum of all values: 37.4\n",
            "After updating key 3: {1: 5.6, 3: 7.1, 4: 8.7, 5: 7.7, 8: 8.8}\n",
            "Dictionary after clearing: {}\n"
          ]
        }
      ]
    },
    {
      "cell_type": "markdown",
      "source": [
        "Q3.\n",
        "S1 is a set defined as S1= [10, 20, 30, 40, 50, 60].\n",
        "\n",
        "S2 is a set defined as S2= [40, 50, 60, 70, 80, 90].\n",
        "\n",
        "(i) WAP to add 55 and 66 in Set S1.\n",
        "\n",
        "(ii) WAP to remove 10 and 30 from Set S1.\n",
        "\n",
        "(iii) WAP to check whether 40 is present in S1.\n",
        "\n",
        "(iv) WAP to find the union between S1 and S2.\n",
        "\n",
        "(v) WAP to find the intersection between S1 and S2.\n",
        "\n",
        "(vi) WAP to find the S1 - S2."
      ],
      "metadata": {
        "id": "3Voc3s805jrg"
      }
    },
    {
      "cell_type": "code",
      "source": [
        "S1 = {10, 20, 30, 40, 50, 60}\n",
        "S2 = {40, 50, 60, 70, 80, 90}\n",
        "\n",
        "# (i) Add 55 and 66 to S1\n",
        "S1.add(55)\n",
        "S1.add(66)\n",
        "print(\"After adding 55 and 66 to S1:\", S1)\n",
        "\n",
        "# (ii) Remove 10 and 30 from S1\n",
        "S1.discard(10)\n",
        "S1.discard(30)\n",
        "print(\"After removing 10 and 30 from S1:\", S1)\n",
        "\n",
        "# (iii) Check whether 40 is present in S1\n",
        "print(\"40 is present in S1\" if 40 in S1 else \"40 is not present in S1\")\n",
        "\n",
        "# (iv) Union between S1 and S2\n",
        "union_set = S1.union(S2)\n",
        "print(\"Union of S1 and S2:\", union_set)\n",
        "\n",
        "# (v) Intersection between S1 and S2\n",
        "intersection_set = S1.intersection(S2)\n",
        "print(\"Intersection of S1 and S2:\", intersection_set)\n",
        "\n",
        "# (vi) S1 - S2 (difference)\n",
        "difference_set = S1.difference(S2)\n",
        "print(\"S1 - S2:\", difference_set)\n"
      ],
      "metadata": {
        "colab": {
          "base_uri": "https://localhost:8080/"
        },
        "id": "zxKmW4vU6KNB",
        "outputId": "92c9bf8b-63f6-4624-bb54-a04eee5e4a04"
      },
      "execution_count": 31,
      "outputs": [
        {
          "output_type": "stream",
          "name": "stdout",
          "text": [
            "After adding 55 and 66 to S1: {50, 66, 20, 55, 40, 10, 60, 30}\n",
            "After removing 10 and 30 from S1: {50, 66, 20, 55, 40, 60}\n",
            "40 is present in S1\n",
            "Union of S1 and S2: {66, 70, 40, 80, 50, 20, 55, 90, 60}\n",
            "Intersection of S1 and S2: {40, 50, 60}\n",
            "S1 - S2: {66, 20, 55}\n"
          ]
        }
      ]
    },
    {
      "cell_type": "markdown",
      "source": [
        "Q4. Write the following program.\n",
        "\n",
        "(i) WAP to print 100 random strings whose length between 6 and 8.\n",
        "\n",
        "(ii) WAP to print all prime numbers between 600 and 800.\n",
        "\n",
        "(iii) WAP to print all numbers between 100 and 1000 that are divisible by 7 and 9."
      ],
      "metadata": {
        "id": "QloZgIUw7lOX"
      }
    },
    {
      "cell_type": "code",
      "source": [
        "import random\n",
        "import string\n",
        "\n",
        "# (i) WAP to print 100 random strings whose length is between 6 and 8\n",
        "print(\"Random Strings:\")\n",
        "for _ in range(100):\n",
        "    length = random.randint(6, 8)\n",
        "    rand_str = ''.join(random.choices(string.ascii_letters, k=length))\n",
        "    print(rand_str)\n",
        "\n",
        "# (ii) WAP to print all prime numbers between 600 and 800\n",
        "def is_prime(n):\n",
        "    if n < 2:\n",
        "        return False\n",
        "    for i in range(2, int(n**0.5)+1):\n",
        "        if n % i == 0:\n",
        "            return False\n",
        "    return True\n",
        "\n",
        "print(\"\\nPrime numbers between 600 and 800:\")\n",
        "for i in range(600, 801):\n",
        "    if is_prime(i):\n",
        "        print(i, end=\" \")\n",
        "\n",
        "# (iii) WAP to print all numbers between 100 and 1000 divisible by 7 and 9\n",
        "print(\"\\n\\nNumbers divisible by both 7 and 9 between 100 and 1000:\")\n",
        "for i in range(100, 1001):\n",
        "    if i % 7 == 0 and i % 9 == 0:\n",
        "        print(i, end=\" \")\n"
      ],
      "metadata": {
        "colab": {
          "base_uri": "https://localhost:8080/"
        },
        "id": "IMCktdis76E9",
        "outputId": "5e38639c-4233-441f-8846-680f87cf531e"
      },
      "execution_count": 32,
      "outputs": [
        {
          "output_type": "stream",
          "name": "stdout",
          "text": [
            "Random Strings:\n",
            "ouTHmx\n",
            "sJBmKhv\n",
            "GYdAnYZ\n",
            "IIvoJjj\n",
            "ybzUjwWm\n",
            "qZFRbMFI\n",
            "nXavANJ\n",
            "VZuuCVO\n",
            "LgJnlLm\n",
            "yCFxfP\n",
            "HysUeA\n",
            "tlAolI\n",
            "rrdYXU\n",
            "HgihYrz\n",
            "FjxTbx\n",
            "QIpDlJ\n",
            "WLHJrWp\n",
            "tcnEkpQC\n",
            "Kmmpcau\n",
            "XuBLTwL\n",
            "HqMBYhQX\n",
            "XqVmNb\n",
            "koNZhep\n",
            "oYgDnNcw\n",
            "YQqKrc\n",
            "WCrNPjRY\n",
            "vkRkNEh\n",
            "lfgQgTx\n",
            "uBlVXwxF\n",
            "NLUaUaj\n",
            "rRmJMCZX\n",
            "IRjvaDL\n",
            "nmQMne\n",
            "SGlDfcG\n",
            "OTkoQk\n",
            "MgUJhgW\n",
            "GYmFlJ\n",
            "MAvtLJpd\n",
            "dNYctJDz\n",
            "NUfPxcl\n",
            "KEAwjz\n",
            "KFBokvP\n",
            "CuFmBW\n",
            "fRSByymv\n",
            "LAqyiEB\n",
            "AsxhdJ\n",
            "qptOnfPX\n",
            "FvBLYHL\n",
            "VzxRVzUv\n",
            "vtHqDcn\n",
            "imrcQd\n",
            "znSrhybI\n",
            "HioLTcr\n",
            "mrZJTnRt\n",
            "VjoQWKcM\n",
            "YbWnIs\n",
            "oYXefZwY\n",
            "bugQLK\n",
            "esIkKqyl\n",
            "EnOYZkWU\n",
            "BcZWgWr\n",
            "QsVBcrZZ\n",
            "GcNnAe\n",
            "APEBiZt\n",
            "hEqimbqN\n",
            "MVZECNc\n",
            "SBKNwF\n",
            "qcOyPjf\n",
            "xTKBso\n",
            "EvoEJwiY\n",
            "qhMiVUGC\n",
            "KfihYmJo\n",
            "gmHLtLk\n",
            "miLFPw\n",
            "GdsIvzQh\n",
            "rMFBlZUt\n",
            "ZzvLdOGT\n",
            "AkHpgoDr\n",
            "RvYJjZ\n",
            "hpfDneG\n",
            "SnCTrBz\n",
            "sxnhgYn\n",
            "TqbSXPi\n",
            "OrLdGS\n",
            "VqKmCvDI\n",
            "whdAck\n",
            "kRkMGG\n",
            "hHumkkK\n",
            "oPinks\n",
            "ubHiftGO\n",
            "QvygWpuu\n",
            "jOCyThn\n",
            "fbXEkg\n",
            "zYqULpWr\n",
            "jcrARb\n",
            "GTuhwjM\n",
            "GAECjDn\n",
            "rRMgNhf\n",
            "RyrlzIr\n",
            "ZiJXwOX\n",
            "\n",
            "Prime numbers between 600 and 800:\n",
            "601 607 613 617 619 631 641 643 647 653 659 661 673 677 683 691 701 709 719 727 733 739 743 751 757 761 769 773 787 797 \n",
            "\n",
            "Numbers divisible by both 7 and 9 between 100 and 1000:\n",
            "126 189 252 315 378 441 504 567 630 693 756 819 882 945 "
          ]
        }
      ]
    },
    {
      "cell_type": "markdown",
      "source": [
        " Q5.\n",
        "\n",
        "WAP to create two lists of 10 random numbers between 10 and 30; Find  \n",
        "(i)\n",
        "Common numbers in the two lists\n",
        "\n",
        "(ii)\n",
        "Unique numbers in both the list\n",
        "\n",
        "(iii) Minimum in both the list\n",
        "\n",
        "(iv) Maximum in both the list\n",
        "\n",
        "(v)\n",
        "Sum of both the lists\n"
      ],
      "metadata": {
        "id": "3hTVUCuq8QIB"
      }
    },
    {
      "cell_type": "code",
      "source": [
        "import random\n",
        "\n",
        "# Generate two lists of 10 random numbers between 10 and 30\n",
        "list1 = [random.randint(10, 30) for _ in range(10)]\n",
        "list2 = [random.randint(10, 30) for _ in range(10)]\n",
        "\n",
        "print(\"List 1:\", list1)\n",
        "print(\"List 2:\", list2)\n",
        "\n",
        "# (i) Common numbers in the two lists\n",
        "common = list(set(list1) & set(list2))\n",
        "print(\"\\nCommon numbers:\", common)\n",
        "\n",
        "# (ii) Unique numbers in both lists\n",
        "unique = list(set(list1) ^ set(list2))  # symmetric difference\n",
        "print(\"Unique numbers:\", unique)\n",
        "\n",
        "# (iii) Minimum in both lists\n",
        "print(\"Minimum in List 1:\", min(list1))\n",
        "print(\"Minimum in List 2:\", min(list2))\n",
        "\n",
        "# (iv) Maximum in both lists\n",
        "print(\"Maximum in List 1:\", max(list1))\n",
        "print(\"Maximum in List 2:\", max(list2))\n",
        "\n",
        "# (v) Sum of both the lists\n",
        "sum1 = sum(list1)\n",
        "sum2 = sum(list2)\n",
        "print(\"Sum of List 1:\", sum1)\n",
        "print(\"Sum of List 2:\", sum2)\n",
        "print(\"Total Sum:\", sum1 + sum2)\n"
      ],
      "metadata": {
        "colab": {
          "base_uri": "https://localhost:8080/"
        },
        "id": "1BvvxTiR8baq",
        "outputId": "e2cd370a-5635-402c-a99f-8da6df639849"
      },
      "execution_count": 33,
      "outputs": [
        {
          "output_type": "stream",
          "name": "stdout",
          "text": [
            "List 1: [25, 28, 18, 24, 25, 20, 29, 20, 13, 11]\n",
            "List 2: [12, 10, 16, 17, 24, 22, 26, 20, 25, 29]\n",
            "\n",
            "Common numbers: [24, 25, 20, 29]\n",
            "Unique numbers: [10, 11, 12, 13, 16, 17, 18, 22, 26, 28]\n",
            "Minimum in List 1: 11\n",
            "Minimum in List 2: 10\n",
            "Maximum in List 1: 29\n",
            "Maximum in List 2: 29\n",
            "Sum of List 1: 213\n",
            "Sum of List 2: 201\n",
            "Total Sum: 414\n"
          ]
        }
      ]
    },
    {
      "cell_type": "markdown",
      "source": [
        " Q6. WAP to create a list of 100 random numbers between 100 and 900. Count and print the:  \n",
        "(i) All odd numbers\n",
        "\n",
        "(ii) All even numbers\n",
        "\n",
        "(iii) All prime numbers"
      ],
      "metadata": {
        "id": "BWSpXUjh8t2q"
      }
    },
    {
      "cell_type": "code",
      "source": [
        "import random\n",
        "\n",
        "# Generate a list of 100 random numbers between 100 and 900\n",
        "numbers = [random.randint(100, 900) for _ in range(100)]\n",
        "print(\"Random Numbers:\", numbers)\n",
        "\n",
        "# (i) All odd numbers\n",
        "odds = [n for n in numbers if n % 2 != 0]\n",
        "print(\"\\nOdd Numbers:\", odds)\n",
        "print(\"Count of Odd Numbers:\", len(odds))\n",
        "\n",
        "# (ii) All even numbers\n",
        "evens = [n for n in numbers if n % 2 == 0]\n",
        "print(\"\\nEven Numbers:\", evens)\n",
        "print(\"Count of Even Numbers:\", len(evens))\n",
        "\n",
        "# (iii) All prime numbers\n",
        "def is_prime(n):\n",
        "    if n < 2:\n",
        "        return False\n",
        "    for i in range(2, int(n**0.5) + 1):\n",
        "        if n % i == 0:\n",
        "            return False\n",
        "    return True\n",
        "\n",
        "primes = [n for n in numbers if is_prime(n)]\n",
        "print(\"\\nPrime Numbers:\", primes)\n",
        "print(\"Count of Prime Numbers:\", len(primes))\n"
      ],
      "metadata": {
        "colab": {
          "base_uri": "https://localhost:8080/"
        },
        "id": "eTTp2m5P9veU",
        "outputId": "518f4061-0640-43e3-a938-673acba4b830"
      },
      "execution_count": 34,
      "outputs": [
        {
          "output_type": "stream",
          "name": "stdout",
          "text": [
            "Random Numbers: [422, 885, 805, 823, 127, 112, 638, 814, 671, 593, 282, 601, 845, 627, 399, 131, 106, 494, 871, 659, 864, 846, 510, 895, 519, 726, 725, 202, 141, 325, 548, 603, 419, 772, 194, 104, 793, 659, 266, 187, 347, 535, 829, 280, 225, 648, 595, 831, 297, 639, 162, 306, 879, 482, 698, 140, 540, 114, 841, 164, 782, 757, 617, 275, 628, 386, 826, 209, 694, 808, 297, 784, 537, 361, 270, 845, 662, 561, 118, 353, 380, 150, 584, 481, 468, 343, 177, 436, 649, 438, 168, 549, 108, 543, 514, 552, 521, 617, 491, 203]\n",
            "\n",
            "Odd Numbers: [885, 805, 823, 127, 671, 593, 601, 845, 627, 399, 131, 871, 659, 895, 519, 725, 141, 325, 603, 419, 793, 659, 187, 347, 535, 829, 225, 595, 831, 297, 639, 879, 841, 757, 617, 275, 209, 297, 537, 361, 845, 561, 353, 481, 343, 177, 649, 549, 543, 521, 617, 491, 203]\n",
            "Count of Odd Numbers: 53\n",
            "\n",
            "Even Numbers: [422, 112, 638, 814, 282, 106, 494, 864, 846, 510, 726, 202, 548, 772, 194, 104, 266, 280, 648, 162, 306, 482, 698, 140, 540, 114, 164, 782, 628, 386, 826, 694, 808, 784, 270, 662, 118, 380, 150, 584, 468, 436, 438, 168, 108, 514, 552]\n",
            "Count of Even Numbers: 47\n",
            "\n",
            "Prime Numbers: [823, 127, 593, 601, 131, 659, 419, 659, 347, 829, 757, 617, 353, 521, 617, 491]\n",
            "Count of Prime Numbers: 16\n"
          ]
        }
      ]
    },
    {
      "cell_type": "markdown",
      "source": [
        "Q7.\n",
        "\n",
        "D is a dictionary defined as D={1:\"One\",2:\"Two\",3:\"Three\",4:\"Four\", 5:\"Five\"}.  \n",
        "\n",
        "WAP to read all the keys and values from dictionary and write to the file in the given below format.\n",
        "\n",
        "Key1, Value1\n",
        "\n",
        "Key2, Value2\n",
        "\n",
        "Key3, Value3"
      ],
      "metadata": {
        "id": "HsD_Wy3p-UYJ"
      }
    },
    {
      "cell_type": "code",
      "source": [
        "# Define the dictionary\n",
        "D = {1: \"One\", 2: \"Two\", 3: \"Three\", 4: \"Four\", 5: \"Five\"}\n",
        "\n",
        "# Write key-value pairs to a file\n",
        "with open(\"q7_dictionary_output.txt\", \"w\") as file:\n",
        "    for key, value in D.items():\n",
        "        file.write(f\"{key}, {value}\\n\")\n",
        "\n",
        "print(\"Dictionary written to 'q7_dictionary_output.txt' successfully.\")\n"
      ],
      "metadata": {
        "colab": {
          "base_uri": "https://localhost:8080/"
        },
        "id": "bemMEAGj-fS5",
        "outputId": "a9a57091-420f-4e6d-9558-9b430681c0a7"
      },
      "execution_count": 35,
      "outputs": [
        {
          "output_type": "stream",
          "name": "stdout",
          "text": [
            "Dictionary written to 'q7_dictionary_output.txt' successfully.\n"
          ]
        }
      ]
    },
    {
      "cell_type": "markdown",
      "source": [
        "Q8. L is a list defined as L={\"One\",\"Two\",\"Three\",\"Four\",\"Five\"}.\n",
        "\n",
        "WAP to count the length of reach element from a list and write to the file in the given below format:\n",
        "\n",
        "One, 3\n",
        "\n",
        "Two, 3\n",
        "\n",
        "Four, 4"
      ],
      "metadata": {
        "id": "fMA2qHZw_CTX"
      }
    },
    {
      "cell_type": "code",
      "source": [
        "# Define the list\n",
        "L = [\"One\", \"Two\", \"Three\", \"Four\", \"Five\"]\n",
        "\n",
        "# Write word lengths to a file in the given format\n",
        "with open(\"q8_word_lengths.txt\", \"w\") as file:\n",
        "    for word in L:\n",
        "        file.write(f\"{word}, {len(word)}\\n\")\n",
        "\n",
        "print(\"Word lengths written to 'q8_word_lengths.txt' successfully.\")\n"
      ],
      "metadata": {
        "colab": {
          "base_uri": "https://localhost:8080/"
        },
        "id": "RNwr5fUX_NDq",
        "outputId": "b55dbe7b-3de1-4b97-ca95-7550394bf571"
      },
      "execution_count": 37,
      "outputs": [
        {
          "output_type": "stream",
          "name": "stdout",
          "text": [
            "Word lengths written to 'q8_word_lengths.txt' successfully.\n"
          ]
        }
      ]
    },
    {
      "cell_type": "markdown",
      "source": [
        "Q9.\n",
        "\n",
        " Write to the file 100 random strings whose length between 10 and 15."
      ],
      "metadata": {
        "id": "JcCnUXelAc7-"
      }
    },
    {
      "cell_type": "code",
      "source": [
        "import random\n",
        "import string\n",
        "\n",
        "# Generate 100 random strings\n",
        "random_strings = [''.join(random.choices(string.ascii_letters, k=random.randint(10, 15))) for _ in range(100)]\n",
        "\n",
        "# Write them to a file\n",
        "with open(\"q9_random_strings.txt\", \"w\") as file:\n",
        "    for s in random_strings:\n",
        "        file.write(s + \"\\n\")\n",
        "\n",
        "print(\"100 random strings written to 'q9_random_strings.txt' successfully.\")\n"
      ],
      "metadata": {
        "colab": {
          "base_uri": "https://localhost:8080/"
        },
        "id": "rltICM-4AX7Z",
        "outputId": "2e8c5be5-b272-44aa-f893-62400eabc388"
      },
      "execution_count": 38,
      "outputs": [
        {
          "output_type": "stream",
          "name": "stdout",
          "text": [
            "100 random strings written to 'q9_random_strings.txt' successfully.\n"
          ]
        }
      ]
    },
    {
      "cell_type": "markdown",
      "source": [
        "Q10.\n",
        " Write to the file all prime numbers between 600 and 800.\n",
        "\n",
        "\n",
        "\n"
      ],
      "metadata": {
        "id": "-VSWt-U1Ar9C"
      }
    },
    {
      "cell_type": "code",
      "source": [
        "# Function to check if a number is prime\n",
        "def is_prime(n):\n",
        "    if n < 2:\n",
        "        return False\n",
        "    for i in range(2, int(n**0.5)+1):\n",
        "        if n % i == 0:\n",
        "            return False\n",
        "    return True\n",
        "\n",
        "# Generate prime numbers between 600 and 800\n",
        "primes = [str(i) for i in range(600, 801) if is_prime(i)]\n",
        "\n",
        "# Write to a file as comma-separated values\n",
        "with open(\"q10_primes_600_800.txt\", \"w\") as file:\n",
        "    file.write(\", \".join(primes))\n",
        "\n",
        "print(\"Prime numbers between 600 and 800 written (comma-separated) to 'q10_primes_600_800.txt' successfully.\")\n"
      ],
      "metadata": {
        "colab": {
          "base_uri": "https://localhost:8080/"
        },
        "id": "PXN795sRAsWV",
        "outputId": "9df51608-3f40-48ba-cbca-22d3d689d104"
      },
      "execution_count": 40,
      "outputs": [
        {
          "output_type": "stream",
          "name": "stdout",
          "text": [
            "Prime numbers between 600 and 800 written (comma-separated) to 'q10_primes_600_800.txt' successfully.\n"
          ]
        }
      ]
    },
    {
      "cell_type": "markdown",
      "source": [
        " Q11. WAP to calculate the time taken by a program"
      ],
      "metadata": {
        "id": "2VSTWktWBIPj"
      }
    },
    {
      "cell_type": "code",
      "source": [
        "import time\n",
        "\n",
        "# Start the timer\n",
        "start_time = time.time()\n",
        "\n",
        "# Sample program: sum of numbers from 1 to 1 million\n",
        "total = sum(range(1, 1_000_001))\n",
        "print(\"Sum:\", total)\n",
        "\n",
        "# End the timer\n",
        "end_time = time.time()\n",
        "\n",
        "# Calculate and print time taken\n",
        "time_taken = end_time - start_time\n",
        "print(\"Time taken by the program:\", time_taken, \"seconds\")\n"
      ],
      "metadata": {
        "colab": {
          "base_uri": "https://localhost:8080/"
        },
        "id": "uAp1TvM1BNLV",
        "outputId": "67ebe18f-038e-47ac-a263-c84141cb5b29"
      },
      "execution_count": 39,
      "outputs": [
        {
          "output_type": "stream",
          "name": "stdout",
          "text": [
            "Sum: 500000500000\n",
            "Time taken by the program: 0.042394399642944336 seconds\n"
          ]
        }
      ]
    },
    {
      "cell_type": "markdown",
      "source": [
        "Q12. ![image.png](data:image/png;base64,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)"
      ],
      "metadata": {
        "id": "h9E-zQN2BW3P"
      }
    },
    {
      "cell_type": "code",
      "source": [
        "import random\n",
        "import time\n",
        "import matplotlib.pyplot as plt\n",
        "\n",
        "# Define sizes\n",
        "sizes = [5000, 10000, 15000, 20000, 25000]\n",
        "times = []\n",
        "\n",
        "# Measure sorting time for each size\n",
        "for size in sizes:\n",
        "    data = [random.randint(1, 100000) for _ in range(size)]\n",
        "    start = time.time()\n",
        "    data.sort()\n",
        "    end = time.time()\n",
        "    elapsed = end - start\n",
        "    times.append(elapsed)\n",
        "    print(f\"Sorted {size} elements in {elapsed:.6f} seconds\")\n",
        "\n",
        "# Plotting the results\n",
        "plt.plot(sizes, times, marker='o')\n",
        "plt.title(\"Sorting Time vs List Size\")\n",
        "plt.xlabel(\"Number of Elements\")\n",
        "plt.ylabel(\"Time Taken (seconds)\")\n",
        "plt.grid(True)\n",
        "plt.show()\n"
      ],
      "metadata": {
        "colab": {
          "base_uri": "https://localhost:8080/",
          "height": 561
        },
        "id": "vZPreeCWBl4P",
        "outputId": "bd25841d-c6fd-4e23-9600-0dee420cbc32"
      },
      "execution_count": 41,
      "outputs": [
        {
          "output_type": "stream",
          "name": "stdout",
          "text": [
            "Sorted 5000 elements in 0.001417 seconds\n",
            "Sorted 10000 elements in 0.007995 seconds\n",
            "Sorted 15000 elements in 0.006231 seconds\n",
            "Sorted 20000 elements in 0.006490 seconds\n",
            "Sorted 25000 elements in 0.006034 seconds\n"
          ]
        },
        {
          "output_type": "display_data",
          "data": {
            "text/plain": [
              "<Figure size 640x480 with 1 Axes>"
            ],
            "image/png": "[encoded data removed]"
          },
          "metadata": {}
        }
      ]
    },
    {
      "cell_type": "markdown",
      "source": [
        "Q13. WAP to create a dictionary of student marks in five subjects and you have to find the student having maximum and minimum average marks."
      ],
      "metadata": {
        "id": "cX1uEmOfBzZ1"
      }
    },
    {
      "cell_type": "code",
      "source": [
        "# Dictionary format: 'StudentName': [marks in 5 subjects]\n",
        "students = {\n",
        "    'Alice': [85, 90, 88, 92, 86],\n",
        "    'Bob': [78, 80, 75, 82, 79],\n",
        "    'Charlie': [92, 94, 89, 96, 91],\n",
        "    'David': [65, 70, 68, 72, 69],\n",
        "    'Eva': [88, 85, 90, 87, 84]\n",
        "}\n",
        "\n",
        "# Calculate average marks\n",
        "averages = {name: sum(marks)/len(marks) for name, marks in students.items()}\n",
        "\n",
        "# Find student with max and min average\n",
        "max_student = max(averages, key=averages.get)\n",
        "min_student = min(averages, key=averages.get)\n",
        "\n",
        "# Display results\n",
        "print(\"Average Marks of Each Student:\")\n",
        "for name, avg in averages.items():\n",
        "    print(f\"{name}: {avg:.2f}\")\n",
        "\n",
        "print(f\"\\nTopper: {max_student} with average {averages[max_student]:.2f}\")\n",
        "print(f\"Lowest Scorer: {min_student} with average {averages[min_student]:.2f}\")\n"
      ],
      "metadata": {
        "colab": {
          "base_uri": "https://localhost:8080/"
        },
        "id": "Pg9ekTvGB5H1",
        "outputId": "8083d78b-e2d4-47e3-f336-3ceaff170687"
      },
      "execution_count": 42,
      "outputs": [
        {
          "output_type": "stream",
          "name": "stdout",
          "text": [
            "Average Marks of Each Student:\n",
            "Alice: 88.20\n",
            "Bob: 78.80\n",
            "Charlie: 92.40\n",
            "David: 68.80\n",
            "Eva: 86.80\n",
            "\n",
            "Topper: Charlie with average 92.40\n",
            "Lowest Scorer: David with average 68.80\n"
          ]
        }
      ]
    }
  ]
}