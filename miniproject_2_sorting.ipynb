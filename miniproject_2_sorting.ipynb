{
  "nbformat": 4,
  "nbformat_minor": 0,
  "metadata": {
    "colab": {
      "provenance": [],
      "authorship_tag": "ABX9TyMYdiHH0TxXO26JuCCiYIq6",
      "include_colab_link": true
    },
    "kernelspec": {
      "name": "python3",
      "display_name": "Python 3"
    },
    "language_info": {
      "name": "python"
    }
  },
  "cells": [
    {
      "cell_type": "markdown",
      "metadata": {
        "id": "view-in-github",
        "colab_type": "text"
      },
      "source": [
        "<a href=\"https://colab.research.google.com/github/pahuldeep1979/Summer2025-Mini-projects/blob/main/miniproject_2_sorting.ipynb\" target=\"_parent\"><img src=\"https://colab.research.google.com/assets/colab-badge.svg\" alt=\"Open In Colab\"/></a>"
      ]
    },
    {
      "cell_type": "markdown",
      "source": [
        " Write a python program to sort the list of heterogeneous data.  \n",
        "e.g.  \n",
        "L = [\"Ram\", 1, \"Shyam\", 2, \"Aman\", 3]\n",
        "print(L)\n",
        "L.sort()\n",
        "print(L)\n",
        " Above code gives error. Correct it."
      ],
      "metadata": {
        "id": "kWNYOvn1D8W_"
      }
    },
    {
      "cell_type": "code",
      "execution_count": 1,
      "metadata": {
        "colab": {
          "base_uri": "https://localhost:8080/"
        },
        "id": "YcUeKNnUCdD2",
        "outputId": "abbf3b7a-f352-4f81-8381-6f8b96fdda2f"
      },
      "outputs": [
        {
          "output_type": "stream",
          "name": "stdout",
          "text": [
            "Original List: ['Ram', 1, 'Shyam', 2, 'Aman', 3]\n",
            "Sorted List: [1, 2, 3, 'Aman', 'Ram', 'Shyam']\n"
          ]
        }
      ],
      "source": [
        "# Original heterogeneous list\n",
        "L = [\"Ram\", 1, \"Shyam\", 2, \"Aman\", 3]\n",
        "print(\"Original List:\", L)\n",
        "\n",
        "# Separate and sort strings and integers\n",
        "strings = sorted([x for x in L if isinstance(x, str)])\n",
        "numbers = sorted([x for x in L if isinstance(x, int)])\n",
        "\n",
        "# Combine with numbers first, then strings\n",
        "L_sorted = numbers + strings\n",
        "print(\"Sorted List:\", L_sorted)\n"
      ]
    }
  ]
}